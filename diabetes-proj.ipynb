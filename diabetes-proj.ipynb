{
 "cells": [
  {
   "cell_type": "code",
   "execution_count": 1,
   "id": "7062e6ad",
   "metadata": {
    "_cell_guid": "b1076dfc-b9ad-4769-8c92-a6c4dae69d19",
    "_uuid": "8f2839f25d086af736a60e9eeb907d3b93b6e0e5",
    "execution": {
     "iopub.execute_input": "2024-05-12T19:57:27.519033Z",
     "iopub.status.busy": "2024-05-12T19:57:27.518641Z",
     "iopub.status.idle": "2024-05-12T19:57:28.544227Z",
     "shell.execute_reply": "2024-05-12T19:57:28.542343Z"
    },
    "papermill": {
     "duration": 1.034592,
     "end_time": "2024-05-12T19:57:28.547096",
     "exception": false,
     "start_time": "2024-05-12T19:57:27.512504",
     "status": "completed"
    },
    "tags": []
   },
   "outputs": [
    {
     "name": "stdout",
     "output_type": "stream",
     "text": [
      "/kaggle/input/diabetesms/diabetes.csv\n"
     ]
    }
   ],
   "source": [
    "# This Python 3 environment comes with many helpful analytics libraries installed\n",
    "# It is defined by the kaggle/python Docker image: https://github.com/kaggle/docker-python\n",
    "# For example, here's several helpful packages to load\n",
    "\n",
    "import numpy as np # linear algebra\n",
    "import pandas as pd # data processing, CSV file I/O (e.g. pd.read_csv)\n",
    "\n",
    "# Input data files are available in the read-only \"../input/\" directory\n",
    "# For example, running this (by clicking run or pressing Shift+Enter) will list all files under the input directory\n",
    "\n",
    "import os\n",
    "for dirname, _, filenames in os.walk('/kaggle/input'):\n",
    "    for filename in filenames:\n",
    "        print(os.path.join(dirname, filename))\n",
    "\n",
    "# You can write up to 20GB to the current directory (/kaggle/working/) that gets preserved as output when you create a version using \"Save & Run All\" \n",
    "# You can also write temporary files to /kaggle/temp/, but they won't be saved outside of the current session"
   ]
  },
  {
   "cell_type": "code",
   "execution_count": 2,
   "id": "a3508513",
   "metadata": {
    "execution": {
     "iopub.execute_input": "2024-05-12T19:57:28.555928Z",
     "iopub.status.busy": "2024-05-12T19:57:28.555394Z",
     "iopub.status.idle": "2024-05-12T19:57:28.606561Z",
     "shell.execute_reply": "2024-05-12T19:57:28.605176Z"
    },
    "papermill": {
     "duration": 0.058572,
     "end_time": "2024-05-12T19:57:28.609212",
     "exception": false,
     "start_time": "2024-05-12T19:57:28.550640",
     "status": "completed"
    },
    "tags": []
   },
   "outputs": [
    {
     "data": {
      "text/html": [
       "<div>\n",
       "<style scoped>\n",
       "    .dataframe tbody tr th:only-of-type {\n",
       "        vertical-align: middle;\n",
       "    }\n",
       "\n",
       "    .dataframe tbody tr th {\n",
       "        vertical-align: top;\n",
       "    }\n",
       "\n",
       "    .dataframe thead th {\n",
       "        text-align: right;\n",
       "    }\n",
       "</style>\n",
       "<table border=\"1\" class=\"dataframe\">\n",
       "  <thead>\n",
       "    <tr style=\"text-align: right;\">\n",
       "      <th></th>\n",
       "      <th>AGE</th>\n",
       "      <th>SEX</th>\n",
       "      <th>BMI</th>\n",
       "      <th>BP</th>\n",
       "      <th>S1</th>\n",
       "      <th>S2</th>\n",
       "      <th>S3</th>\n",
       "      <th>S4</th>\n",
       "      <th>S5</th>\n",
       "      <th>S6</th>\n",
       "      <th>Y</th>\n",
       "    </tr>\n",
       "  </thead>\n",
       "  <tbody>\n",
       "    <tr>\n",
       "      <th>0</th>\n",
       "      <td>59</td>\n",
       "      <td>2</td>\n",
       "      <td>32.1</td>\n",
       "      <td>101.0</td>\n",
       "      <td>157</td>\n",
       "      <td>93.2</td>\n",
       "      <td>38.0</td>\n",
       "      <td>4.0</td>\n",
       "      <td>4.8598</td>\n",
       "      <td>87</td>\n",
       "      <td>151</td>\n",
       "    </tr>\n",
       "    <tr>\n",
       "      <th>1</th>\n",
       "      <td>48</td>\n",
       "      <td>1</td>\n",
       "      <td>21.6</td>\n",
       "      <td>87.0</td>\n",
       "      <td>183</td>\n",
       "      <td>103.2</td>\n",
       "      <td>70.0</td>\n",
       "      <td>3.0</td>\n",
       "      <td>3.8918</td>\n",
       "      <td>69</td>\n",
       "      <td>75</td>\n",
       "    </tr>\n",
       "    <tr>\n",
       "      <th>2</th>\n",
       "      <td>72</td>\n",
       "      <td>2</td>\n",
       "      <td>30.5</td>\n",
       "      <td>93.0</td>\n",
       "      <td>156</td>\n",
       "      <td>93.6</td>\n",
       "      <td>41.0</td>\n",
       "      <td>4.0</td>\n",
       "      <td>4.6728</td>\n",
       "      <td>85</td>\n",
       "      <td>141</td>\n",
       "    </tr>\n",
       "    <tr>\n",
       "      <th>3</th>\n",
       "      <td>24</td>\n",
       "      <td>1</td>\n",
       "      <td>25.3</td>\n",
       "      <td>84.0</td>\n",
       "      <td>198</td>\n",
       "      <td>131.4</td>\n",
       "      <td>40.0</td>\n",
       "      <td>5.0</td>\n",
       "      <td>4.8903</td>\n",
       "      <td>89</td>\n",
       "      <td>206</td>\n",
       "    </tr>\n",
       "    <tr>\n",
       "      <th>4</th>\n",
       "      <td>50</td>\n",
       "      <td>1</td>\n",
       "      <td>23.0</td>\n",
       "      <td>101.0</td>\n",
       "      <td>192</td>\n",
       "      <td>125.4</td>\n",
       "      <td>52.0</td>\n",
       "      <td>4.0</td>\n",
       "      <td>4.2905</td>\n",
       "      <td>80</td>\n",
       "      <td>135</td>\n",
       "    </tr>\n",
       "  </tbody>\n",
       "</table>\n",
       "</div>"
      ],
      "text/plain": [
       "   AGE  SEX   BMI     BP   S1     S2    S3   S4      S5  S6    Y\n",
       "0   59    2  32.1  101.0  157   93.2  38.0  4.0  4.8598  87  151\n",
       "1   48    1  21.6   87.0  183  103.2  70.0  3.0  3.8918  69   75\n",
       "2   72    2  30.5   93.0  156   93.6  41.0  4.0  4.6728  85  141\n",
       "3   24    1  25.3   84.0  198  131.4  40.0  5.0  4.8903  89  206\n",
       "4   50    1  23.0  101.0  192  125.4  52.0  4.0  4.2905  80  135"
      ]
     },
     "execution_count": 2,
     "metadata": {},
     "output_type": "execute_result"
    }
   ],
   "source": [
    "df = pd.read_csv(f\"/kaggle/input/diabetesms/diabetes.csv\",sep='\\t')\n",
    "df.head()"
   ]
  },
  {
   "cell_type": "code",
   "execution_count": 3,
   "id": "935a361e",
   "metadata": {
    "execution": {
     "iopub.execute_input": "2024-05-12T19:57:28.617809Z",
     "iopub.status.busy": "2024-05-12T19:57:28.617439Z",
     "iopub.status.idle": "2024-05-12T19:57:28.622088Z",
     "shell.execute_reply": "2024-05-12T19:57:28.620885Z"
    },
    "papermill": {
     "duration": 0.011848,
     "end_time": "2024-05-12T19:57:28.624403",
     "exception": false,
     "start_time": "2024-05-12T19:57:28.612555",
     "status": "completed"
    },
    "tags": []
   },
   "outputs": [],
   "source": [
    "#Age and sex are self-explanatory\n",
    "#BMI is body mass index\n",
    "#BP is average blood pressure\n",
    "#S1 through S6 are different blood measurements\n",
    "#Y is the qualitative measure of disease progression over one year\n",
    "\n",
    "#Let's study the dataset using probability and statistics"
   ]
  },
  {
   "cell_type": "code",
   "execution_count": 4,
   "id": "9331a124",
   "metadata": {
    "execution": {
     "iopub.execute_input": "2024-05-12T19:57:28.633156Z",
     "iopub.status.busy": "2024-05-12T19:57:28.632795Z",
     "iopub.status.idle": "2024-05-12T19:57:28.658404Z",
     "shell.execute_reply": "2024-05-12T19:57:28.656597Z"
    },
    "papermill": {
     "duration": 0.033475,
     "end_time": "2024-05-12T19:57:28.661424",
     "exception": false,
     "start_time": "2024-05-12T19:57:28.627949",
     "status": "completed"
    },
    "tags": []
   },
   "outputs": [
    {
     "name": "stdout",
     "output_type": "stream",
     "text": [
      "AGE\n",
      "Mean = 48.51809954751131\n",
      "Variance = 171.84661043904742\n",
      "Standard Deviation = 13.109027822041092\n",
      "\n",
      "BMI\n",
      "Mean = 26.37579185520362\n",
      "Variance = 19.519798124377957\n",
      "Standard Deviation = 4.4181215606157735\n",
      "\n",
      "BP\n",
      "Mean = 94.64701357466062\n",
      "Variance = 191.30440103836406\n",
      "Standard Deviation = 13.831283419782999\n",
      "\n",
      "S1\n",
      "Mean = 189.14027149321268\n",
      "Variance = 1197.7172407424507\n",
      "Standard Deviation = 34.60805167504306\n",
      "\n",
      "S2\n",
      "Mean = 115.43914027149322\n",
      "Variance = 924.9554940437713\n",
      "Standard Deviation = 30.413080969276546\n",
      "\n",
      "S3\n",
      "Mean = 49.78846153846154\n",
      "Variance = 167.2935853828711\n",
      "Standard Deviation = 12.934202154863327\n",
      "\n",
      "S4\n",
      "Mean = 4.070248868778281\n",
      "Variance = 1.6652609356563137\n",
      "Standard Deviation = 1.2904498966082774\n",
      "\n",
      "S5\n",
      "Mean = 4.641410859728507\n",
      "Variance = 0.2728918982944973\n",
      "Standard Deviation = 0.5223905610694907\n",
      "\n",
      "S6\n",
      "Mean = 91.26018099547511\n",
      "Variance = 132.16571243882169\n",
      "Standard Deviation = 11.496334739334172\n"
     ]
    }
   ],
   "source": [
    "#Mean and variance of all the variables\n",
    "\n",
    "print(\"AGE\")\n",
    "mean = df['AGE'].mean()\n",
    "var = df['AGE'].var()\n",
    "std = df['AGE'].std()\n",
    "print(f\"Mean = {mean}\\nVariance = {var}\\nStandard Deviation = {std}\")\n",
    "print(\"\\nBMI\")\n",
    "mean = df['BMI'].mean()\n",
    "var = df['BMI'].var()\n",
    "std = df['BMI'].std()\n",
    "print(f\"Mean = {mean}\\nVariance = {var}\\nStandard Deviation = {std}\")\n",
    "print(\"\\nBP\")\n",
    "mean = df['BP'].mean()\n",
    "var = df['BP'].var()\n",
    "std = df['BP'].std()\n",
    "print(f\"Mean = {mean}\\nVariance = {var}\\nStandard Deviation = {std}\")\n",
    "print(\"\\nS1\")\n",
    "mean = df['S1'].mean()\n",
    "var = df['S1'].var()\n",
    "std = df['S1'].std()\n",
    "print(f\"Mean = {mean}\\nVariance = {var}\\nStandard Deviation = {std}\")\n",
    "print(\"\\nS2\")\n",
    "mean = df['S2'].mean()\n",
    "var = df['S2'].var()\n",
    "std = df['S2'].std()\n",
    "print(f\"Mean = {mean}\\nVariance = {var}\\nStandard Deviation = {std}\")\n",
    "print(\"\\nS3\")\n",
    "mean = df['S3'].mean()\n",
    "var = df['S3'].var()\n",
    "std = df['S3'].std()\n",
    "print(f\"Mean = {mean}\\nVariance = {var}\\nStandard Deviation = {std}\")\n",
    "print(\"\\nS4\")\n",
    "mean = df['S4'].mean()\n",
    "var = df['S4'].var()\n",
    "std = df['S4'].std()\n",
    "print(f\"Mean = {mean}\\nVariance = {var}\\nStandard Deviation = {std}\")\n",
    "print(\"\\nS5\")\n",
    "mean = df['S5'].mean()\n",
    "var = df['S5'].var()\n",
    "std = df['S5'].std()\n",
    "print(f\"Mean = {mean}\\nVariance = {var}\\nStandard Deviation = {std}\")\n",
    "print(\"\\nS6\")\n",
    "mean = df['S6'].mean()\n",
    "var = df['S6'].var()\n",
    "std = df['S6'].std()\n",
    "print(f\"Mean = {mean}\\nVariance = {var}\\nStandard Deviation = {std}\")"
   ]
  },
  {
   "cell_type": "code",
   "execution_count": 5,
   "id": "bc5ccbc4",
   "metadata": {
    "execution": {
     "iopub.execute_input": "2024-05-12T19:57:28.670538Z",
     "iopub.status.busy": "2024-05-12T19:57:28.670132Z",
     "iopub.status.idle": "2024-05-12T19:57:28.674864Z",
     "shell.execute_reply": "2024-05-12T19:57:28.673608Z"
    },
    "papermill": {
     "duration": 0.012441,
     "end_time": "2024-05-12T19:57:28.677457",
     "exception": false,
     "start_time": "2024-05-12T19:57:28.665016",
     "status": "completed"
    },
    "tags": []
   },
   "outputs": [],
   "source": [
    "#Boxplots for BMI, BP, and Y depending on gender\n",
    "\n"
   ]
  }
 ],
 "metadata": {
  "kaggle": {
   "accelerator": "none",
   "dataSources": [
    {
     "datasetId": 4988515,
     "sourceId": 8387287,
     "sourceType": "datasetVersion"
    }
   ],
   "dockerImageVersionId": 30698,
   "isGpuEnabled": false,
   "isInternetEnabled": true,
   "language": "python",
   "sourceType": "notebook"
  },
  "kernelspec": {
   "display_name": "Python 3",
   "language": "python",
   "name": "python3"
  },
  "language_info": {
   "codemirror_mode": {
    "name": "ipython",
    "version": 3
   },
   "file_extension": ".py",
   "mimetype": "text/x-python",
   "name": "python",
   "nbconvert_exporter": "python",
   "pygments_lexer": "ipython3",
   "version": "3.10.13"
  },
  "papermill": {
   "default_parameters": {},
   "duration": 5.152256,
   "end_time": "2024-05-12T19:57:29.404076",
   "environment_variables": {},
   "exception": null,
   "input_path": "__notebook__.ipynb",
   "output_path": "__notebook__.ipynb",
   "parameters": {},
   "start_time": "2024-05-12T19:57:24.251820",
   "version": "2.5.0"
  }
 },
 "nbformat": 4,
 "nbformat_minor": 5
}
